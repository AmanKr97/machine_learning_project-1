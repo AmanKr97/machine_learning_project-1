{
 "cells": [
  {
   "cell_type": "code",
   "execution_count": null,
   "metadata": {},
   "outputs": [],
   "source": []
  },
  {
   "cell_type": "code",
   "execution_count": 1,
   "metadata": {},
   "outputs": [
    {
     "data": {
      "text/plain": [
       "'d:\\\\Project\\\\machine_learning_project'"
      ]
     },
     "execution_count": 1,
     "metadata": {},
     "output_type": "execute_result"
    }
   ],
   "source": [
    "import os\n",
    "\n",
    "os.chdir(os.pardir)\n",
    "os.getcwd()"
   ]
  },
  {
   "cell_type": "code",
   "execution_count": 2,
   "metadata": {},
   "outputs": [],
   "source": [
    "from housing.pipeline.pipeline import Pipeline"
   ]
  },
  {
   "cell_type": "code",
   "execution_count": 3,
   "metadata": {},
   "outputs": [],
   "source": [
    "pipe_line= Pipeline()"
   ]
  },
  {
   "cell_type": "code",
   "execution_count": 4,
   "metadata": {},
   "outputs": [
    {
     "name": "stdout",
     "output_type": "stream",
     "text": [
      "{'fit_intercept': True}\n",
      "{'n_estimators': 40, 'min_samples_leaf': 2}\n",
      "{'cv': 4, 'verbose': 2}\n",
      "Fitting 4 folds for each of 1 candidates, totalling 4 fits\n",
      "[CV] END .................................fit_intercept=True; total time=   0.0s\n",
      "[CV] END .................................fit_intercept=True; total time=   0.0s\n",
      "[CV] END .................................fit_intercept=True; total time=   0.0s\n",
      "[CV] END .................................fit_intercept=True; total time=   0.0s\n",
      "{'cv': 4, 'verbose': 2}\n",
      "Fitting 4 folds for each of 1 candidates, totalling 4 fits\n"
     ]
    }
   ],
   "source": [
    "pipe_line.start()"
   ]
  },
  {
   "cell_type": "code",
   "execution_count": null,
   "metadata": {},
   "outputs": [],
   "source": []
  },
  {
   "cell_type": "code",
   "execution_count": 5,
   "metadata": {},
   "outputs": [
    {
     "data": {
      "text/plain": [
       "Experiment(experiment_id='fe83ca9f-cc5c-4b9a-9434-eeb18701156d', initialization_timestamp='2022-07-06-14-56-46', log_file_name='log_2022-07-06-14-56-46.log', running_status=True, start_time=datetime.datetime(2022, 7, 6, 14, 56, 47, 427831), stop_time=None, execution_time=None, message='Pipeline has been started.')"
      ]
     },
     "execution_count": 5,
     "metadata": {},
     "output_type": "execute_result"
    }
   ],
   "source": [
    "pipe_line.experiment"
   ]
  },
  {
   "cell_type": "code",
   "execution_count": 7,
   "metadata": {},
   "outputs": [
    {
     "data": {
      "text/plain": [
       "Experiment(experiment_id='3565fdd3-bdf5-4c2e-9e56-df23a51de3ef', initialization_timestamp='2022-07-06-15-14-33', log_file_name='log_2022-07-06-15-14-33.log', running_status=True, start_time=datetime.datetime(2022, 7, 6, 15, 14, 35, 365934), stop_time=None, execution_time=None, message='Pipeline has been started.', experiment_file_path='d:\\\\Project\\\\machine_learning_project\\\\housing\\\\artifact\\\\experiment\\\\experiment-3565fdd3-bdf5-4c2e-9e56-df23a51de3ef.csv')"
      ]
     },
     "execution_count": 7,
     "metadata": {},
     "output_type": "execute_result"
    },
    {
     "name": "stdout",
     "output_type": "stream",
     "text": [
      "[CV] END ........................................kernel=poly; total time=   6.1s\n",
      "[CV] END ........................................kernel=poly; total time=   6.5s\n",
      "[CV] END ........................................kernel=poly; total time=   5.8s\n",
      "[CV] END .........................................kernel=rbf; total time=  12.7s\n",
      "[CV] END .........................................kernel=rbf; total time=  11.3s\n",
      "[CV] END .........................................kernel=rbf; total time=  11.1s\n",
      "[CV] END .........................................kernel=rbf; total time=  12.1s\n",
      "[CV] END .....................................kernel=sigmoid; total time=   8.8s\n",
      "[CV] END .....................................kernel=sigmoid; total time=   9.1s\n",
      "[CV] END .....................................kernel=sigmoid; total time=   9.0s\n",
      "[CV] END .....................................kernel=sigmoid; total time=   8.5s\n"
     ]
    },
    {
     "name": "stderr",
     "output_type": "stream",
     "text": [
      "Exception in thread pipeline:\n",
      "Traceback (most recent call last):\n",
      "  File \"d:\\Project\\machine_learning_project\\housing\\pipeline\\pipeline.py\", line 160, in run_pipeline\n",
      "    message=\"Pipeline has been completed.\"\n",
      "TypeError: __new__() missing 1 required positional argument: 'experiment_file_path'\n",
      "\n",
      "The above exception was the direct cause of the following exception:\n",
      "\n",
      "Traceback (most recent call last):\n",
      "  File \"d:\\Project\\machine_learning_project\\venv\\lib\\threading.py\", line 917, in _bootstrap_inner\n",
      "    self.run()\n",
      "  File \"d:\\Project\\machine_learning_project\\housing\\pipeline\\pipeline.py\", line 171, in run\n",
      "    raise e\n",
      "  File \"d:\\Project\\machine_learning_project\\housing\\pipeline\\pipeline.py\", line 169, in run\n",
      "    self.run_pipeline()\n",
      "  File \"d:\\Project\\machine_learning_project\\housing\\pipeline\\pipeline.py\", line 165, in run_pipeline\n",
      "    raise HousingException(e, sys) from e\n",
      "housing.exception.HousingException: \n",
      "        Error occured in script: \n",
      "        [ d:\\Project\\machine_learning_project\\housing\\pipeline\\pipeline.py ] at \n",
      "        try block line number: [160] and exception block line number: [165] \n",
      "        error message: [__new__() missing 1 required positional argument: 'experiment_file_path']\n",
      "        \n",
      "\n"
     ]
    }
   ],
   "source": [
    "pipe_line.run_pipeline()"
   ]
  },
  {
   "cell_type": "code",
   "execution_count": 7,
   "metadata": {},
   "outputs": [],
   "source": [
    "import pandas as pd"
   ]
  },
  {
   "cell_type": "code",
   "execution_count": 11,
   "metadata": {},
   "outputs": [
    {
     "data": {
      "text/html": [
       "<div>\n",
       "<style scoped>\n",
       "    .dataframe tbody tr th:only-of-type {\n",
       "        vertical-align: middle;\n",
       "    }\n",
       "\n",
       "    .dataframe tbody tr th {\n",
       "        vertical-align: top;\n",
       "    }\n",
       "\n",
       "    .dataframe thead th {\n",
       "        text-align: right;\n",
       "    }\n",
       "</style>\n",
       "<table border=\"1\" class=\"dataframe\">\n",
       "  <thead>\n",
       "    <tr style=\"text-align: right;\">\n",
       "      <th></th>\n",
       "      <th>0</th>\n",
       "      <th>1</th>\n",
       "    </tr>\n",
       "  </thead>\n",
       "  <tbody>\n",
       "    <tr>\n",
       "      <th>0</th>\n",
       "      <td>experiment_id</td>\n",
       "      <td>fe83ca9f-cc5c-4b9a-9434-eeb18701156d</td>\n",
       "    </tr>\n",
       "    <tr>\n",
       "      <th>1</th>\n",
       "      <td>initialization_timestamp</td>\n",
       "      <td>2022-07-06-14-56-46</td>\n",
       "    </tr>\n",
       "    <tr>\n",
       "      <th>2</th>\n",
       "      <td>log_file_name</td>\n",
       "      <td>log_2022-07-06-14-56-46.log</td>\n",
       "    </tr>\n",
       "    <tr>\n",
       "      <th>3</th>\n",
       "      <td>running_status</td>\n",
       "      <td>True</td>\n",
       "    </tr>\n",
       "    <tr>\n",
       "      <th>4</th>\n",
       "      <td>start_time</td>\n",
       "      <td>2022-07-06 14:56:47.427831</td>\n",
       "    </tr>\n",
       "    <tr>\n",
       "      <th>5</th>\n",
       "      <td>stop_time</td>\n",
       "      <td>2022-07-06 14:59:18.437730</td>\n",
       "    </tr>\n",
       "    <tr>\n",
       "      <th>6</th>\n",
       "      <td>execution_time</td>\n",
       "      <td>0:02:31.009899</td>\n",
       "    </tr>\n",
       "    <tr>\n",
       "      <th>7</th>\n",
       "      <td>message</td>\n",
       "      <td>Pipeline has been completed.</td>\n",
       "    </tr>\n",
       "  </tbody>\n",
       "</table>\n",
       "</div>"
      ],
      "text/plain": [
       "                          0                                     1\n",
       "0             experiment_id  fe83ca9f-cc5c-4b9a-9434-eeb18701156d\n",
       "1  initialization_timestamp                   2022-07-06-14-56-46\n",
       "2             log_file_name           log_2022-07-06-14-56-46.log\n",
       "3            running_status                                  True\n",
       "4                start_time            2022-07-06 14:56:47.427831\n",
       "5                 stop_time            2022-07-06 14:59:18.437730\n",
       "6            execution_time                        0:02:31.009899\n",
       "7                   message          Pipeline has been completed."
      ]
     },
     "execution_count": 11,
     "metadata": {},
     "output_type": "execute_result"
    }
   ],
   "source": [
    "pd.DataFrame(zip(pipe_line.experiment._fields,pipe_line.experiment))"
   ]
  },
  {
   "cell_type": "code",
   "execution_count": 10,
   "metadata": {},
   "outputs": [],
   "source": [
    "pipe_line.save_experiment()"
   ]
  },
  {
   "cell_type": "code",
   "execution_count": null,
   "metadata": {},
   "outputs": [],
   "source": []
  },
  {
   "cell_type": "code",
   "execution_count": 5,
   "metadata": {},
   "outputs": [
    {
     "name": "stdout",
     "output_type": "stream",
     "text": [
      "[CV] END ................min_samples_leaf=2, n_estimators=50; total time=   4.1s\n"
     ]
    },
    {
     "data": {
      "text/html": [
       "<div>\n",
       "<style scoped>\n",
       "    .dataframe tbody tr th:only-of-type {\n",
       "        vertical-align: middle;\n",
       "    }\n",
       "\n",
       "    .dataframe tbody tr th {\n",
       "        vertical-align: top;\n",
       "    }\n",
       "\n",
       "    .dataframe thead th {\n",
       "        text-align: right;\n",
       "    }\n",
       "</style>\n",
       "<table border=\"1\" class=\"dataframe\">\n",
       "  <thead>\n",
       "    <tr style=\"text-align: right;\">\n",
       "      <th></th>\n",
       "      <th>0</th>\n",
       "      <th>1</th>\n",
       "    </tr>\n",
       "  </thead>\n",
       "  <tbody>\n",
       "    <tr>\n",
       "      <th>0</th>\n",
       "      <td>experiment_id</td>\n",
       "      <td>3565fdd3-bdf5-4c2e-9e56-df23a51de3ef</td>\n",
       "    </tr>\n",
       "    <tr>\n",
       "      <th>1</th>\n",
       "      <td>initialization_timestamp</td>\n",
       "      <td>2022-07-06-15-14-33</td>\n",
       "    </tr>\n",
       "    <tr>\n",
       "      <th>2</th>\n",
       "      <td>log_file_name</td>\n",
       "      <td>log_2022-07-06-15-14-33.log</td>\n",
       "    </tr>\n",
       "    <tr>\n",
       "      <th>3</th>\n",
       "      <td>running_status</td>\n",
       "      <td>True</td>\n",
       "    </tr>\n",
       "    <tr>\n",
       "      <th>4</th>\n",
       "      <td>start_time</td>\n",
       "      <td>2022-07-06 15:14:35.365934</td>\n",
       "    </tr>\n",
       "    <tr>\n",
       "      <th>5</th>\n",
       "      <td>stop_time</td>\n",
       "      <td>NaN</td>\n",
       "    </tr>\n",
       "    <tr>\n",
       "      <th>6</th>\n",
       "      <td>execution_time</td>\n",
       "      <td>NaN</td>\n",
       "    </tr>\n",
       "    <tr>\n",
       "      <th>7</th>\n",
       "      <td>message</td>\n",
       "      <td>Pipeline has been started.</td>\n",
       "    </tr>\n",
       "    <tr>\n",
       "      <th>8</th>\n",
       "      <td>experiment_file_path</td>\n",
       "      <td>d:\\Project\\machine_learning_project\\housing\\ar...</td>\n",
       "    </tr>\n",
       "  </tbody>\n",
       "</table>\n",
       "</div>"
      ],
      "text/plain": [
       "                          0                                                  1\n",
       "0             experiment_id               3565fdd3-bdf5-4c2e-9e56-df23a51de3ef\n",
       "1  initialization_timestamp                                2022-07-06-15-14-33\n",
       "2             log_file_name                        log_2022-07-06-15-14-33.log\n",
       "3            running_status                                               True\n",
       "4                start_time                         2022-07-06 15:14:35.365934\n",
       "5                 stop_time                                                NaN\n",
       "6            execution_time                                                NaN\n",
       "7                   message                         Pipeline has been started.\n",
       "8      experiment_file_path  d:\\Project\\machine_learning_project\\housing\\ar..."
      ]
     },
     "execution_count": 5,
     "metadata": {},
     "output_type": "execute_result"
    },
    {
     "name": "stdout",
     "output_type": "stream",
     "text": [
      "[CV] END ................min_samples_leaf=2, n_estimators=50; total time=   3.8s\n",
      "[CV] END ................min_samples_leaf=2, n_estimators=50; total time=   3.5s\n",
      "[CV] END ................min_samples_leaf=2, n_estimators=50; total time=   3.6s\n",
      "{'cv': 4, 'verbose': 2}\n",
      "Fitting 4 folds for each of 3 candidates, totalling 12 fits\n",
      "[CV] END ........................................kernel=poly; total time=   6.5s\n"
     ]
    }
   ],
   "source": [
    "pipe_line.get_experiment_status()"
   ]
  },
  {
   "cell_type": "code",
   "execution_count": null,
   "metadata": {},
   "outputs": [],
   "source": []
  }
 ],
 "metadata": {
  "kernelspec": {
   "display_name": "Python 3.7.0 (conda)",
   "language": "python",
   "name": "python3"
  },
  "language_info": {
   "codemirror_mode": {
    "name": "ipython",
    "version": 3
   },
   "file_extension": ".py",
   "mimetype": "text/x-python",
   "name": "python",
   "nbconvert_exporter": "python",
   "pygments_lexer": "ipython3",
   "version": "3.7.0"
  },
  "orig_nbformat": 4,
  "vscode": {
   "interpreter": {
    "hash": "7a29293c9d4d8b93126739266382f07a312940ff8d40640417510f0b045f4058"
   }
  }
 },
 "nbformat": 4,
 "nbformat_minor": 2
}
